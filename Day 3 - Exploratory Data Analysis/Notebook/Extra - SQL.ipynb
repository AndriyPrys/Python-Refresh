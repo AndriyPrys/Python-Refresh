{
 "cells": [
  {
   "cell_type": "markdown",
   "metadata": {
    "id": "NCjq9ABdzIvH"
   },
   "source": [
    "<br>\n",
    "<img style=\"float: left\"; src=\"img\\bip.jpeg\" width=\"60\">\n",
    "<img style=\"float: left; margin-left: 30px;\"; src=\"img\\crif-customer-logo.png\" width=\"100\">\n",
    "<br>\n",
    "<br>\n",
    "<br>\n",
    "<br>\n",
    "\n",
    "# SQL - Standard Query Language\n",
    "\n",
    "<br>\n",
    "<img style=\"float: center\"; src=\"img\\sql.png\" width=\"300\">\n",
    "<br>\n",
    "\n",
    "SQL is a formal language for communicating with a database to articulate precisely what information you want from a collection of database tables.\n",
    "\n",
    "Databases are *structured* repositories for data in that database designers must be specific about defining a common set of data items that will be available for each record in a table. This includes defining each column name and data type.\n",
    "\n",
    "Python has a built-in tools for accessing a database and sending or receiving data. In this notebook, we will explore these tools."
   ]
  },
  {
   "cell_type": "code",
   "execution_count": 1,
   "metadata": {},
   "outputs": [
    {
     "data": {
      "text/plain": [
       "'Connected: @testdb.sqlite'"
      ]
     },
     "execution_count": 1,
     "metadata": {},
     "output_type": "execute_result"
    }
   ],
   "source": [
    "%load_ext sql\n",
    "%sql sqlite:///testdb.sqlite"
   ]
  },
  {
   "cell_type": "markdown",
   "metadata": {},
   "source": [
    "# Content:\n",
    "[1. Creating a Table](#1)  <br>\n",
    "[2. Schemas](#2)  <br>\n",
    "[3. Selecting data](#3)  <br>\n",
    "[4. Case-When](#4)  <br>\n",
    "[5. Groupby](#5)  <br>\n",
    "[6. Combining tables](#6)  <br>\n",
    "[7. Union](#7)  <br>\n",
    "[8. Creating SQL Tables with Pandas](#8)  <br>"
   ]
  },
  {
   "cell_type": "markdown",
   "metadata": {
    "id": "NqZH0ABAzIx7"
   },
   "source": [
    "# SQL Syntax in Detail\n",
    "\n",
    "**Key nouns:**\n",
    "    - \"Relational\" database\n",
    "    - Table\n",
    "    - Row\n",
    "    - Column\n",
    "    - (Primary key)\n",
    "\n",
    "**Key verbs:**\n",
    "    - `CREATE TABLE` / `DROP TABLE` to modify the structure of the database\n",
    "    - `SELECT` to read out some rows\n",
    "    - `INSERT` / `UPDATE` / `DELETE` to modify (or delete) some rows of tables\n",
    "\n",
    "**Key modifiers:**\n",
    "    - `WHERE`: impose condition\n",
    "    - `ORDER BY`: sort\n",
    "    - `GROUP BY`: aggregate (e.g. pivot tables in Excel)\n",
    "    - `JOIN`: combining tables in one query"
   ]
  },
  {
   "cell_type": "markdown",
   "metadata": {
    "id": "Cn7KJp98zIx-"
   },
   "source": [
    "<a id='1'></a>\n",
    "# 1. Creating a Table\n",
    "\n",
    "You create a table using the syntax\n",
    "\n",
    "```SQL\n",
    "CREATE TABLE tb ([schema])\n",
    "```\n",
    "\n",
    "We can insert rows by using the syntax\n",
    "\n",
    "```SQL\n",
    "INSERT INTO tb ([column]) VALUES ([values]);\n",
    "```\n",
    "\n",
    "**Gotchas:**\n",
    " - For strings you 'must' use single quotes.  (SQLite and MySQL don't care.  Postgres does.)\n",
    " - The primary key is required to uniquely specify a row.  If you do not specify it when you insert an item (and you usually don't) a new unique key will be assigned to you.  If you try to insert a primary key value that already exists for the table, you will get an error.\n",
    " - While not necessarily required, it's a good idea to preceded table creation by table deletion:\n",
    "\n",
    "```SQL\n",
    "DROP TABLE IF EXISTS tb\n",
    "```\n",
    " \n",
    "Below are some examples: we'll worry about the details later."
   ]
  },
  {
   "cell_type": "code",
   "execution_count": 2,
   "metadata": {
    "id": "RV3qjKdnzIyA",
    "outputId": "1c361776-f80b-4d26-ff83-e44bdf750dbd"
   },
   "outputs": [
    {
     "name": "stdout",
     "output_type": "stream",
     "text": [
      " * sqlite:///testdb.sqlite\n",
      "Done.\n",
      "Done.\n",
      "1 rows affected.\n",
      "1 rows affected.\n",
      "1 rows affected.\n",
      "Done.\n"
     ]
    },
    {
     "data": {
      "text/html": [
       "<table>\n",
       "    <thead>\n",
       "        <tr>\n",
       "            <th>employee_id</th>\n",
       "            <th>name</th>\n",
       "            <th>age</th>\n",
       "        </tr>\n",
       "    </thead>\n",
       "    <tbody>\n",
       "        <tr>\n",
       "            <td>1</td>\n",
       "            <td>Bob</td>\n",
       "            <td>2.0</td>\n",
       "        </tr>\n",
       "        <tr>\n",
       "            <td>2</td>\n",
       "            <td>John</td>\n",
       "            <td>1.0</td>\n",
       "        </tr>\n",
       "        <tr>\n",
       "            <td>4</td>\n",
       "            <td>Jack</td>\n",
       "            <td>3.0</td>\n",
       "        </tr>\n",
       "    </tbody>\n",
       "</table>"
      ],
      "text/plain": [
       "[(1, 'Bob', 2.0), (2, 'John', 1.0), (4, 'Jack', 3.0)]"
      ]
     },
     "execution_count": 2,
     "metadata": {},
     "output_type": "execute_result"
    }
   ],
   "source": [
    "%%sql\n",
    "-- This table demonstrates how to create a table, insert values, and display results\n",
    "    \n",
    "DROP TABLE IF EXISTS Employees1;\n",
    "CREATE TABLE Employees1 (\n",
    "    employee_id INTEGER PRIMARY KEY,\n",
    "    name TEXT,\n",
    "    age FLOAT\n",
    ");\n",
    "\n",
    "INSERT INTO Employees1 (name, age) VALUES ('Bob', 2.);\n",
    "INSERT INTO Employees1 (age, name) VALUES (1., 'John');\n",
    "INSERT INTO Employees1 (employee_id, age, name) VALUES (4, 3., 'Jack');\n",
    "\n",
    "SELECT * FROM Employees1;"
   ]
  },
  {
   "cell_type": "markdown",
   "metadata": {
    "id": "rM7Jt7FpzIys"
   },
   "source": [
    "<a id='2'></a>\n",
    "\n",
    "# 2. Schemas\n",
    "\n",
    "SQL is a typed language (if it can be called a language).  That means that its tables have a **schema** or a description of the structure of a database (tables, rows, etc.).  Each column of a table must specify its **type** and a few other attributes.  The basic types are:\n",
    "\n",
    "- `INTEGER` (or `INT`): integer-valued numeric data\n",
    "- `FLOAT`: non-integer numeric data\n",
    "- `TEXT`: strings or textual data\n",
    "- `DATE`: a date object\n",
    "\n",
    "Columns can have optional attributes:\n",
    "\n",
    "- `NOT NULL`: column values can always be null (not specified).  `NOT NULL` forces the table to be specified.\n",
    "- `DEFAULT`: specify the default value in this column."
   ]
  },
  {
   "cell_type": "code",
   "execution_count": 3,
   "metadata": {
    "id": "K3TLIV_-zIyu",
    "outputId": "b0cad8ac-40d9-4a9d-8873-8649f1efed81"
   },
   "outputs": [
    {
     "name": "stdout",
     "output_type": "stream",
     "text": [
      " * sqlite:///testdb.sqlite\n",
      "Done.\n",
      "Done.\n",
      "1 rows affected.\n",
      "1 rows affected.\n",
      "Done.\n"
     ]
    },
    {
     "data": {
      "text/html": [
       "<table>\n",
       "    <thead>\n",
       "        <tr>\n",
       "            <th>employee_id</th>\n",
       "            <th>name</th>\n",
       "            <th>age</th>\n",
       "        </tr>\n",
       "    </thead>\n",
       "    <tbody>\n",
       "        <tr>\n",
       "            <td>1</td>\n",
       "            <td>Bob</td>\n",
       "            <td>None</td>\n",
       "        </tr>\n",
       "        <tr>\n",
       "            <td>2</td>\n",
       "            <td>Jack</td>\n",
       "            <td>3.14</td>\n",
       "        </tr>\n",
       "    </tbody>\n",
       "</table>"
      ],
      "text/plain": [
       "[(1, 'Bob', None), (2, 'Jack', 3.14)]"
      ]
     },
     "execution_count": 3,
     "metadata": {},
     "output_type": "execute_result"
    }
   ],
   "source": [
    "%%sql\n",
    "-- This table demonstrates optional values\n",
    "    \n",
    "DROP TABLE IF EXISTS Employees1;\n",
    "CREATE TABLE Employees1 (\n",
    "    employee_id INTEGER PRIMARY KEY, \n",
    "    name TEXT NOT NULL,\n",
    "    age FLOAT\n",
    ");\n",
    "\n",
    "INSERT INTO Employees1 (name) VALUES ('Bob');\n",
    "INSERT INTO Employees1 (name, age) VALUES ('Jack', 3.14);\n",
    "\n",
    "SELECT * FROM Employees1;"
   ]
  },
  {
   "cell_type": "markdown",
   "metadata": {
    "id": "e6DtcfcuzIy-"
   },
   "source": [
    "## Multiple Tables and the Relational Data Model\n",
    "\n",
    "The database consists of:\n",
    " - **Tables**: Employees, Tasks, and Assignments.  \n",
    "      > Each table represents a different kind of \"relation\" between bits of data.\n",
    "    \n",
    " - Each of the tables has many **rows** (sometimes called \"relations\").  For instance, each row of the `Employees` table represents information about a single employee:  \n",
    " \n",
    "      > Elements of a single column are _homogeneous_ (of the same kind, or data type) but apply to _different logical entities_.\n",
    "      \n",
    " - The information about a single employee is spread amongst the **columns** of the table:\n",
    " \n",
    "      > Elements of a single row are _heterogeneous_ but apply to _a single logical entity_.\n",
    "      \n",
    " - It is good practice to be able to specify each row of each table by a **primary key**: that is by some column, or small combination of columns, that uniquely specifies the row.  The columns `employee_id`, `task_id`, and `assignment_id` are all of this type.  This way, if you want to refer to this row in another table you can do it succinctly by this primary key.  SQL enforces uniqueness of the primary key.\n"
   ]
  },
  {
   "cell_type": "code",
   "execution_count": 4,
   "metadata": {
    "id": "vHvNSNyazIy_",
    "outputId": "26c25bc3-75d8-4df6-f2a3-137cfbe8bda8"
   },
   "outputs": [
    {
     "name": "stdout",
     "output_type": "stream",
     "text": [
      " * sqlite:///testdb.sqlite\n",
      "Done.\n",
      "Done.\n",
      "1 rows affected.\n",
      "1 rows affected.\n",
      "1 rows affected.\n",
      "1 rows affected.\n",
      "1 rows affected.\n",
      "1 rows affected.\n",
      "Done.\n"
     ]
    },
    {
     "data": {
      "text/html": [
       "<table>\n",
       "    <thead>\n",
       "        <tr>\n",
       "            <th>employee_id</th>\n",
       "            <th>name</th>\n",
       "            <th>hire_date</th>\n",
       "            <th>title</th>\n",
       "            <th>phone_number</th>\n",
       "        </tr>\n",
       "    </thead>\n",
       "    <tbody>\n",
       "        <tr>\n",
       "            <td>1</td>\n",
       "            <td>Jenny Smith</td>\n",
       "            <td>2010-12-1</td>\n",
       "            <td>Chief Music Office</td>\n",
       "            <td>867-5309</td>\n",
       "        </tr>\n",
       "        <tr>\n",
       "            <td>2</td>\n",
       "            <td>John Doe</td>\n",
       "            <td>2011-12-1</td>\n",
       "            <td>CEO</td>\n",
       "            <td>555-1234</td>\n",
       "        </tr>\n",
       "        <tr>\n",
       "            <td>3</td>\n",
       "            <td>Worker Bee 1</td>\n",
       "            <td>2012-12-01</td>\n",
       "            <td>Worker</td>\n",
       "            <td>555-1201</td>\n",
       "        </tr>\n",
       "        <tr>\n",
       "            <td>4</td>\n",
       "            <td>Worker Bee 2</td>\n",
       "            <td>2012-12-03</td>\n",
       "            <td>Worker</td>\n",
       "            <td>555-1202</td>\n",
       "        </tr>\n",
       "        <tr>\n",
       "            <td>5</td>\n",
       "            <td>Worker Bee 3</td>\n",
       "            <td>2012-12-05</td>\n",
       "            <td>Worker</td>\n",
       "            <td>555-1203</td>\n",
       "        </tr>\n",
       "        <tr>\n",
       "            <td>6</td>\n",
       "            <td>Worker Bee 4</td>\n",
       "            <td>2012-12-07</td>\n",
       "            <td>Worker</td>\n",
       "            <td>555-1204</td>\n",
       "        </tr>\n",
       "    </tbody>\n",
       "</table>"
      ],
      "text/plain": [
       "[(1, 'Jenny Smith', '2010-12-1', 'Chief Music Office', '867-5309'),\n",
       " (2, 'John Doe', '2011-12-1', 'CEO', '555-1234'),\n",
       " (3, 'Worker Bee 1', '2012-12-01', 'Worker', '555-1201'),\n",
       " (4, 'Worker Bee 2', '2012-12-03', 'Worker', '555-1202'),\n",
       " (5, 'Worker Bee 3', '2012-12-05', 'Worker', '555-1203'),\n",
       " (6, 'Worker Bee 4', '2012-12-07', 'Worker', '555-1204')]"
      ]
     },
     "execution_count": 4,
     "metadata": {},
     "output_type": "execute_result"
    }
   ],
   "source": [
    "%%sql\n",
    "DROP TABLE IF EXISTS Employees;\n",
    "CREATE TABLE Employees (\n",
    "    employee_id INTEGER PRIMARY KEY,\n",
    "    name TEXT NOT NULL,\n",
    "    hire_date DATE NOT NULL,\n",
    "    title TEXT NOT NULL,\n",
    "    phone_number TEXT NOT NULL\n",
    ");\n",
    "\n",
    "INSERT INTO Employees VALUES (1, 'Jenny Smith', '2010-12-1', 'Chief Music Office', '867-5309');\n",
    "INSERT INTO Employees (title, name, phone_number, hire_date) VALUES ('CEO', 'John Doe', '555-1234', '2011-12-1');\n",
    "INSERT INTO Employees (title, name, phone_number, hire_date) VALUES ('Worker', 'Worker Bee 1', '555-1201', '2012-12-01');\n",
    "INSERT INTO Employees (title, name, phone_number, hire_date) VALUES ('Worker', 'Worker Bee 2', '555-1202', '2012-12-03');\n",
    "INSERT INTO Employees (title, name, phone_number, hire_date) VALUES ('Worker', 'Worker Bee 3', '555-1203', '2012-12-05');\n",
    "INSERT INTO Employees (title, name, phone_number, hire_date) VALUES ('Worker', 'Worker Bee 4', '555-1204', '2012-12-07');\n",
    "\n",
    "SELECT * FROM Employees;"
   ]
  },
  {
   "cell_type": "code",
   "execution_count": 5,
   "metadata": {
    "id": "cu1_1VzizIzE",
    "outputId": "5a944eb9-4d70-46a5-9bb9-7526b1eba4d6"
   },
   "outputs": [
    {
     "name": "stdout",
     "output_type": "stream",
     "text": [
      " * sqlite:///testdb.sqlite\n",
      "Done.\n",
      "Done.\n",
      "1 rows affected.\n",
      "1 rows affected.\n",
      "1 rows affected.\n",
      "Done.\n"
     ]
    },
    {
     "data": {
      "text/html": [
       "<table>\n",
       "    <thead>\n",
       "        <tr>\n",
       "            <th>task_id</th>\n",
       "            <th>deadline</th>\n",
       "            <th>status</th>\n",
       "            <th>description</th>\n",
       "        </tr>\n",
       "    </thead>\n",
       "    <tbody>\n",
       "        <tr>\n",
       "            <td>1</td>\n",
       "            <td>2012-12-11</td>\n",
       "            <td>1</td>\n",
       "            <td>Hire worker bees.</td>\n",
       "        </tr>\n",
       "        <tr>\n",
       "            <td>2</td>\n",
       "            <td>2014-07-18</td>\n",
       "            <td>0</td>\n",
       "            <td>Save the world.</td>\n",
       "        </tr>\n",
       "        <tr>\n",
       "            <td>3</td>\n",
       "            <td>2014-12-11</td>\n",
       "            <td>0</td>\n",
       "            <td>Cost cutting on worker bees.</td>\n",
       "        </tr>\n",
       "    </tbody>\n",
       "</table>"
      ],
      "text/plain": [
       "[(1, '2012-12-11', 1, 'Hire worker bees.'),\n",
       " (2, '2014-07-18', 0, 'Save the world.'),\n",
       " (3, '2014-12-11', 0, 'Cost cutting on worker bees.')]"
      ]
     },
     "execution_count": 5,
     "metadata": {},
     "output_type": "execute_result"
    }
   ],
   "source": [
    "%%sql\n",
    "DROP TABLE IF EXISTS Tasks;\n",
    "CREATE TABLE Tasks (\n",
    "    task_id INTEGER PRIMARY KEY,\n",
    "    deadline DATE NOT NULL,\n",
    "    status INT NOT NULL DEFAULT 0,\n",
    "    description TEXT\n",
    ");\n",
    "\n",
    "INSERT INTO Tasks (deadline, description, status) VALUES ('2012-12-11', 'Hire worker bees.', 1);\n",
    "INSERT INTO Tasks (deadline, description) VALUES ('2014-07-18', 'Save the world.');\n",
    "INSERT INTO Tasks (deadline, description, status) VALUES ('2014-12-11', 'Cost cutting on worker bees.', 0);\n",
    "\n",
    "SELECT * FROM Tasks;"
   ]
  },
  {
   "cell_type": "code",
   "execution_count": 6,
   "metadata": {
    "id": "fwoNSts4zIzL",
    "outputId": "d2c07799-765f-4141-d2ad-ade0c61a39c0"
   },
   "outputs": [
    {
     "name": "stdout",
     "output_type": "stream",
     "text": [
      " * sqlite:///testdb.sqlite\n",
      "Done.\n",
      "Done.\n",
      "1 rows affected.\n",
      "1 rows affected.\n",
      "1 rows affected.\n",
      "1 rows affected.\n",
      "1 rows affected.\n",
      "1 rows affected.\n",
      "1 rows affected.\n",
      "Done.\n"
     ]
    },
    {
     "data": {
      "text/html": [
       "<table>\n",
       "    <thead>\n",
       "        <tr>\n",
       "            <th>assignment_id</th>\n",
       "            <th>task_id</th>\n",
       "            <th>employee_id</th>\n",
       "            <th>start_date</th>\n",
       "            <th>end_date</th>\n",
       "            <th>charge_code</th>\n",
       "            <th>fraction_assignment</th>\n",
       "        </tr>\n",
       "    </thead>\n",
       "    <tbody>\n",
       "        <tr>\n",
       "            <td>1</td>\n",
       "            <td>1</td>\n",
       "            <td>2</td>\n",
       "            <td>2012-01-01</td>\n",
       "            <td>2012-12-31</td>\n",
       "            <td>INTERNAL</td>\n",
       "            <td>0.5</td>\n",
       "        </tr>\n",
       "        <tr>\n",
       "            <td>2</td>\n",
       "            <td>2</td>\n",
       "            <td>3</td>\n",
       "            <td>2013-01-01</td>\n",
       "            <td>2014-07-18</td>\n",
       "            <td>CJX5</td>\n",
       "            <td>1.0</td>\n",
       "        </tr>\n",
       "        <tr>\n",
       "            <td>3</td>\n",
       "            <td>2</td>\n",
       "            <td>4</td>\n",
       "            <td>2013-01-01</td>\n",
       "            <td>2014-07-18</td>\n",
       "            <td>CJX5</td>\n",
       "            <td>1.0</td>\n",
       "        </tr>\n",
       "        <tr>\n",
       "            <td>4</td>\n",
       "            <td>2</td>\n",
       "            <td>5</td>\n",
       "            <td>2013-01-01</td>\n",
       "            <td>2014-07-18</td>\n",
       "            <td>CJX5</td>\n",
       "            <td>1.0</td>\n",
       "        </tr>\n",
       "        <tr>\n",
       "            <td>5</td>\n",
       "            <td>2</td>\n",
       "            <td>6</td>\n",
       "            <td>2013-01-01</td>\n",
       "            <td>2014-07-18</td>\n",
       "            <td>CJX5</td>\n",
       "            <td>1.0</td>\n",
       "        </tr>\n",
       "        <tr>\n",
       "            <td>6</td>\n",
       "            <td>2</td>\n",
       "            <td>2</td>\n",
       "            <td>2013-01-01</td>\n",
       "            <td>2014-07-18</td>\n",
       "            <td>CJX5</td>\n",
       "            <td>0.75</td>\n",
       "        </tr>\n",
       "        <tr>\n",
       "            <td>7</td>\n",
       "            <td>3</td>\n",
       "            <td>2</td>\n",
       "            <td>2013-01-01</td>\n",
       "            <td>2014-07-18</td>\n",
       "            <td>INTERNAL</td>\n",
       "            <td>0.25</td>\n",
       "        </tr>\n",
       "    </tbody>\n",
       "</table>"
      ],
      "text/plain": [
       "[(1, 1, 2, '2012-01-01', '2012-12-31', 'INTERNAL', 0.5),\n",
       " (2, 2, 3, '2013-01-01', '2014-07-18', 'CJX5', 1.0),\n",
       " (3, 2, 4, '2013-01-01', '2014-07-18', 'CJX5', 1.0),\n",
       " (4, 2, 5, '2013-01-01', '2014-07-18', 'CJX5', 1.0),\n",
       " (5, 2, 6, '2013-01-01', '2014-07-18', 'CJX5', 1.0),\n",
       " (6, 2, 2, '2013-01-01', '2014-07-18', 'CJX5', 0.75),\n",
       " (7, 3, 2, '2013-01-01', '2014-07-18', 'INTERNAL', 0.25)]"
      ]
     },
     "execution_count": 6,
     "metadata": {},
     "output_type": "execute_result"
    }
   ],
   "source": [
    "%%sql\n",
    "DROP TABLE IF EXISTS Assignments;\n",
    "CREATE TABLE Assignments (\n",
    "    assignment_id INTEGER PRIMARY KEY,\n",
    "    task_id INTEGER NOT NULL,\n",
    "    employee_id INTEGER NOT NULL,\n",
    "    start_date DATE NOT NULL,\n",
    "    end_date DATE NOT NULL,\n",
    "    charge_code TEXT NOT NULL,  -- This should probably be its own table!\n",
    "    fraction_assignment REAL NOT NULL\n",
    ");\n",
    "\n",
    "INSERT INTO Assignments (task_id, employee_id, start_date, end_date, fraction_assignment, charge_code) VALUES (1, 2, '2012-01-01', '2012-12-31', 0.5, 'INTERNAL');\n",
    "INSERT INTO Assignments (task_id, employee_id, start_date, end_date, fraction_assignment, charge_code) VALUES (2, 3, '2013-01-01', '2014-07-18', 1.0, 'CJX5');\n",
    "INSERT INTO Assignments (task_id, employee_id, start_date, end_date, fraction_assignment, charge_code) VALUES (2, 4, '2013-01-01', '2014-07-18', 1.0, 'CJX5');\n",
    "INSERT INTO Assignments (task_id, employee_id, start_date, end_date, fraction_assignment, charge_code) VALUES (2, 5, '2013-01-01', '2014-07-18', 1.0, 'CJX5');\n",
    "INSERT INTO Assignments (task_id, employee_id, start_date, end_date, fraction_assignment, charge_code) VALUES (2, 6, '2013-01-01', '2014-07-18', 1.0, 'CJX5');\n",
    "INSERT INTO Assignments (task_id, employee_id, start_date, end_date, fraction_assignment, charge_code) VALUES (2, 2, '2013-01-01', '2014-07-18', 0.75, 'CJX5');\n",
    "INSERT INTO Assignments (task_id, employee_id, start_date, end_date, fraction_assignment, charge_code) VALUES (3, 2, '2013-01-01', '2014-07-18', 0.25, 'INTERNAL');\n",
    "\n",
    "SELECT * FROM Assignments;"
   ]
  },
  {
   "cell_type": "code",
   "execution_count": 7,
   "metadata": {
    "id": "NmnmIY8zzIzQ",
    "outputId": "997bd08d-68ff-4746-e7fc-1cce5350bde4"
   },
   "outputs": [
    {
     "name": "stdout",
     "output_type": "stream",
     "text": [
      " * sqlite:///testdb.sqlite\n",
      "Done.\n",
      "Done.\n",
      "1 rows affected.\n",
      "1 rows affected.\n",
      "1 rows affected.\n",
      "1 rows affected.\n",
      "Done.\n"
     ]
    },
    {
     "data": {
      "text/html": [
       "<table>\n",
       "    <thead>\n",
       "        <tr>\n",
       "            <th>pension_id</th>\n",
       "            <th>employee_id</th>\n",
       "            <th>plan_name</th>\n",
       "            <th>funding_amount</th>\n",
       "        </tr>\n",
       "    </thead>\n",
       "    <tbody>\n",
       "        <tr>\n",
       "            <td>1</td>\n",
       "            <td>3</td>\n",
       "            <td>Retirement Plan A</td>\n",
       "            <td>3000</td>\n",
       "        </tr>\n",
       "        <tr>\n",
       "            <td>2</td>\n",
       "            <td>4</td>\n",
       "            <td>Retirement Plan A</td>\n",
       "            <td>5000</td>\n",
       "        </tr>\n",
       "        <tr>\n",
       "            <td>3</td>\n",
       "            <td>5</td>\n",
       "            <td>Retirement Plan B</td>\n",
       "            <td>5000</td>\n",
       "        </tr>\n",
       "        <tr>\n",
       "            <td>4</td>\n",
       "            <td>6</td>\n",
       "            <td>Retirement Plan B</td>\n",
       "            <td>1000</td>\n",
       "        </tr>\n",
       "    </tbody>\n",
       "</table>"
      ],
      "text/plain": [
       "[(1, 3, 'Retirement Plan A', 3000),\n",
       " (2, 4, 'Retirement Plan A', 5000),\n",
       " (3, 5, 'Retirement Plan B', 5000),\n",
       " (4, 6, 'Retirement Plan B', 1000)]"
      ]
     },
     "execution_count": 7,
     "metadata": {},
     "output_type": "execute_result"
    }
   ],
   "source": [
    "%%sql\n",
    "\n",
    "DROP TABLE IF EXISTS Pension_Choices;\n",
    "CREATE TABLE Pension_Choices (\n",
    "    pension_id INTEGER PRIMARY KEY,\n",
    "    employee_id INTEGER NOT NULL, \n",
    "    plan_name TEXT NOT NULL,\n",
    "    funding_amount INTEGER NOT NULL);\n",
    "\n",
    "INSERT INTO Pension_Choices (employee_id, plan_name, funding_amount) VALUES (3, 'Retirement Plan A', '3000');\n",
    "INSERT INTO Pension_Choices (employee_id, plan_name, funding_amount) VALUES (4, 'Retirement Plan A', '5000');\n",
    "INSERT INTO Pension_Choices (employee_id, plan_name, funding_amount) VALUES (5, 'Retirement Plan B', '5000');\n",
    "INSERT INTO Pension_Choices (employee_id, plan_name, funding_amount) VALUES (6, 'Retirement Plan B', '1000');\n",
    "\n",
    "SELECT * FROM Pension_Choices;"
   ]
  },
  {
   "cell_type": "markdown",
   "metadata": {
    "id": "BvvsE7q_zIzY"
   },
   "source": [
    "<a id='3'></a>\n",
    "\n",
    "# 3. Selecting data\n",
    "\n",
    "The basic way to read rows from a single table is\n",
    "\n",
    "```SQL\n",
    "SELECT expression1, expression2, ... FROM table_name [WHERE condition] [GROUP BY columns] [ORDER BY columns] [LIMIT number];\n",
    "```\n",
    "\n",
    "Brackets denote parts which are optional.  We'll explain everything except for `GROUP BY`.  Let us explain the parts:\n",
    "   1. __\"Expressions\": __\n",
    "   \n",
    "   The basic example is just a column name.  Another example is the placeholder `*`: it indicates _all_ columns.\n",
    "\n",
    "   1. __`WHERE` (condition):__\n",
    "   \n",
    "   An example would be `column_name = value`, and for partial string matches there is a special operator `LIKE`.  You can combine these with the usual binary operators (AND, OR) and parentheses for grouping. \n",
    "\n",
    "   1. __`ORDER BY` (sorting):__\n",
    "   \n",
    "   You can add a `ORDER BY column_name1, column_name2, ...` to sort the results by the given column (applied in left-to-right order).  By default the sorting is ascending.  If you want it to be descending write e.g. `column_name1 DESC` (you can also write `ASC` for ascending to disambiguate).\n",
    " \n",
    "   1. __`LIMIT`:__\n",
    "   \n",
    "   If you want to just get at most the first N rows that would be returned, add on `LIMIT N`.\n",
    "   \n",
    "   1. __`AS` (named expressions):__\n",
    "   \n",
    "   You can specify new names for the expressions that you're selecting.  This is especially useful when you're using aggregate functions: \n",
    "```SQL\n",
    "SELECT SUM(salary) as 'Total Salary' FROM ...\n",
    "```\n",
    "\n",
    "Now for a bunch of examples:"
   ]
  },
  {
   "cell_type": "code",
   "execution_count": 8,
   "metadata": {
    "id": "JKHcOO0dzIzZ",
    "outputId": "30694306-5be7-4308-d494-2ba2dfd6ae5a"
   },
   "outputs": [
    {
     "name": "stdout",
     "output_type": "stream",
     "text": [
      " * sqlite:///testdb.sqlite\n",
      "Done.\n"
     ]
    },
    {
     "data": {
      "text/html": [
       "<table>\n",
       "    <thead>\n",
       "        <tr>\n",
       "            <th>Count</th>\n",
       "        </tr>\n",
       "    </thead>\n",
       "    <tbody>\n",
       "        <tr>\n",
       "            <td>2</td>\n",
       "        </tr>\n",
       "    </tbody>\n",
       "</table>"
      ],
      "text/plain": [
       "[(2,)]"
      ]
     },
     "execution_count": 8,
     "metadata": {},
     "output_type": "execute_result"
    }
   ],
   "source": [
    "%%sql\n",
    "\n",
    "SELECT\n",
    "    count(*) as Count\n",
    "FROM\n",
    "    Tasks\n",
    "WHERE\n",
    "    status=0;"
   ]
  },
  {
   "cell_type": "code",
   "execution_count": 9,
   "metadata": {
    "id": "e6CcIi4IzIzg",
    "outputId": "8331d4a1-ca12-45c6-c5b0-7721eddb9173"
   },
   "outputs": [
    {
     "name": "stdout",
     "output_type": "stream",
     "text": [
      " * sqlite:///testdb.sqlite\n",
      "Done.\n"
     ]
    },
    {
     "data": {
      "text/html": [
       "<table>\n",
       "    <thead>\n",
       "        <tr>\n",
       "            <th>assignment_id</th>\n",
       "            <th>duration</th>\n",
       "        </tr>\n",
       "    </thead>\n",
       "    <tbody>\n",
       "        <tr>\n",
       "            <td>6</td>\n",
       "            <td>563.0</td>\n",
       "        </tr>\n",
       "        <tr>\n",
       "            <td>7</td>\n",
       "            <td>563.0</td>\n",
       "        </tr>\n",
       "        <tr>\n",
       "            <td>1</td>\n",
       "            <td>365.0</td>\n",
       "        </tr>\n",
       "    </tbody>\n",
       "</table>"
      ],
      "text/plain": [
       "[(6, 563.0), (7, 563.0), (1, 365.0)]"
      ]
     },
     "execution_count": 9,
     "metadata": {},
     "output_type": "execute_result"
    }
   ],
   "source": [
    "%%sql\n",
    "\n",
    "SELECT\n",
    "    assignment_id,\n",
    "    julianday(end_date) - julianday(start_date) AS duration\n",
    "FROM\n",
    "    Assignments\n",
    "WHERE\n",
    "    employee_id=2\n",
    "ORDER BY \n",
    "    duration DESC;"
   ]
  },
  {
   "cell_type": "markdown",
   "metadata": {
    "id": "QPJ7UjZ6zIzu"
   },
   "source": [
    "<a id='4'></a>\n",
    "\n",
    "# 4. CASE - WHEN\n",
    "\n",
    "Another useful structure that can be an alternative to `WHERE` statements is the `CASE WHEN` command. It essentially operates as a switch statement where you can specify multiple conditions and different outcomes for each condition."
   ]
  },
  {
   "cell_type": "code",
   "execution_count": 10,
   "metadata": {
    "id": "YW7Edf2lzIzw",
    "outputId": "1d0c8d70-a8ba-4a76-ca16-9e73bf97295b"
   },
   "outputs": [
    {
     "name": "stdout",
     "output_type": "stream",
     "text": [
      " * sqlite:///testdb.sqlite\n",
      "Done.\n"
     ]
    },
    {
     "data": {
      "text/html": [
       "<table>\n",
       "    <thead>\n",
       "        <tr>\n",
       "            <th>assignment_id</th>\n",
       "            <th>length</th>\n",
       "        </tr>\n",
       "    </thead>\n",
       "    <tbody>\n",
       "        <tr>\n",
       "            <td>1</td>\n",
       "            <td>one year</td>\n",
       "        </tr>\n",
       "        <tr>\n",
       "            <td>2</td>\n",
       "            <td>years</td>\n",
       "        </tr>\n",
       "        <tr>\n",
       "            <td>3</td>\n",
       "            <td>years</td>\n",
       "        </tr>\n",
       "        <tr>\n",
       "            <td>4</td>\n",
       "            <td>years</td>\n",
       "        </tr>\n",
       "        <tr>\n",
       "            <td>5</td>\n",
       "            <td>years</td>\n",
       "        </tr>\n",
       "        <tr>\n",
       "            <td>6</td>\n",
       "            <td>years</td>\n",
       "        </tr>\n",
       "        <tr>\n",
       "            <td>7</td>\n",
       "            <td>years</td>\n",
       "        </tr>\n",
       "    </tbody>\n",
       "</table>"
      ],
      "text/plain": [
       "[(1, 'one year'),\n",
       " (2, 'years'),\n",
       " (3, 'years'),\n",
       " (4, 'years'),\n",
       " (5, 'years'),\n",
       " (6, 'years'),\n",
       " (7, 'years')]"
      ]
     },
     "execution_count": 10,
     "metadata": {},
     "output_type": "execute_result"
    }
   ],
   "source": [
    "%%sql\n",
    "\n",
    "SELECT\n",
    "    assignment_id, CASE\n",
    "        WHEN julianday(end_date) - julianday(start_date) < 365 THEN \"months\"\n",
    "        WHEN julianday(end_date) - julianday(start_date) > 365 THEN \"years\"\n",
    "        ELSE \"one year\"\n",
    "        END \"length\"\n",
    "FROM Assignments;"
   ]
  },
  {
   "cell_type": "markdown",
   "metadata": {
    "id": "Qf6-Yy8GzIz3"
   },
   "source": [
    "<a id='5'></a>\n",
    "\n",
    "# 5. Groupby (aggregation)\n",
    "   \n",
    "Finally, add a `GROUP BY column_name1, ...` term to aggregate the results along the listed columns.   This means that for _other_ columns you mention in the expressions you must explicitly specify an _aggregate method_ (e.g. `SUM(column_1)`).\n",
    "   \n",
    "   You can use these aggregate methods even without a GROUP BY, to get information for the whole table: e.g.\n",
    "  ```SQL \n",
    "SELECT COUNT(1), SUM(salary) FROM employees GROUP BY department;\n",
    "   ```\n",
    "   returns the number of employees and their total salary by department.  Below are some more examples"
   ]
  },
  {
   "cell_type": "code",
   "execution_count": 11,
   "metadata": {
    "id": "CsT8iVWLzIz6",
    "outputId": "0aee3df7-2706-413e-caba-e58b537db7f6",
    "scrolled": true
   },
   "outputs": [
    {
     "name": "stdout",
     "output_type": "stream",
     "text": [
      " * sqlite:///testdb.sqlite\n",
      "Done.\n"
     ]
    },
    {
     "data": {
      "text/html": [
       "<table>\n",
       "    <thead>\n",
       "        <tr>\n",
       "            <th>plan_name</th>\n",
       "            <th>count(1)</th>\n",
       "            <th>sum(funding_amount)</th>\n",
       "        </tr>\n",
       "    </thead>\n",
       "    <tbody>\n",
       "        <tr>\n",
       "            <td>Retirement Plan A</td>\n",
       "            <td>2</td>\n",
       "            <td>8000</td>\n",
       "        </tr>\n",
       "        <tr>\n",
       "            <td>Retirement Plan B</td>\n",
       "            <td>2</td>\n",
       "            <td>6000</td>\n",
       "        </tr>\n",
       "    </tbody>\n",
       "</table>"
      ],
      "text/plain": [
       "[('Retirement Plan A', 2, 8000), ('Retirement Plan B', 2, 6000)]"
      ]
     },
     "execution_count": 11,
     "metadata": {},
     "output_type": "execute_result"
    }
   ],
   "source": [
    "%%sql\n",
    "\n",
    "SELECT plan_name, count(1),sum(funding_amount) \n",
    "FROM Pension_choices \n",
    "GROUP BY plan_name"
   ]
  },
  {
   "cell_type": "code",
   "execution_count": 12,
   "metadata": {
    "id": "4fR8gVYMzI0B",
    "outputId": "02406d7a-9c54-4616-977a-83e9db86a4ed"
   },
   "outputs": [
    {
     "name": "stdout",
     "output_type": "stream",
     "text": [
      " * sqlite:///testdb.sqlite\n",
      "Done.\n"
     ]
    },
    {
     "data": {
      "text/html": [
       "<table>\n",
       "    <thead>\n",
       "        <tr>\n",
       "            <th>task_id</th>\n",
       "            <th>Total_Worker_Days</th>\n",
       "        </tr>\n",
       "    </thead>\n",
       "    <tbody>\n",
       "        <tr>\n",
       "            <td>2</td>\n",
       "            <td>2674.25</td>\n",
       "        </tr>\n",
       "        <tr>\n",
       "            <td>1</td>\n",
       "            <td>182.5</td>\n",
       "        </tr>\n",
       "        <tr>\n",
       "            <td>3</td>\n",
       "            <td>140.75</td>\n",
       "        </tr>\n",
       "    </tbody>\n",
       "</table>"
      ],
      "text/plain": [
       "[(2, 2674.25), (1, 182.5), (3, 140.75)]"
      ]
     },
     "execution_count": 12,
     "metadata": {},
     "output_type": "execute_result"
    }
   ],
   "source": [
    "%%sql\n",
    "\n",
    "SELECT\n",
    "    task_id,\n",
    "    SUM((julianday(end_date) - julianday(start_date))*fraction_assignment) as Total_Worker_Days\n",
    "FROM\n",
    "    Assignments\n",
    "GROUP BY task_id\n",
    "ORDER BY Total_Worker_Days DESC;"
   ]
  },
  {
   "cell_type": "markdown",
   "metadata": {
    "id": "ZWq47oS9zI0L"
   },
   "source": [
    "<a id='6'></a>\n",
    "\n",
    "# 6. Combining tables: subqueries and joins \n",
    "\n",
    "It's pretty boring to only use one table.  We can combine data from multiple tables in two main ways: subqueries and joins.\n",
    "\n",
    "### Subqueries\n",
    "Let's just see it by example:"
   ]
  },
  {
   "cell_type": "code",
   "execution_count": 13,
   "metadata": {
    "id": "NzA9Tt6wzI0W",
    "outputId": "7d23f493-cd72-402f-cee2-edced5068563"
   },
   "outputs": [
    {
     "name": "stdout",
     "output_type": "stream",
     "text": [
      " * sqlite:///testdb.sqlite\n",
      "Done.\n"
     ]
    },
    {
     "data": {
      "text/html": [
       "<table>\n",
       "    <thead>\n",
       "        <tr>\n",
       "            <th>task_id</th>\n",
       "            <th>Total_Worker_Days</th>\n",
       "        </tr>\n",
       "    </thead>\n",
       "    <tbody>\n",
       "        <tr>\n",
       "            <td>2</td>\n",
       "            <td>2674.25</td>\n",
       "        </tr>\n",
       "    </tbody>\n",
       "</table>"
      ],
      "text/plain": [
       "[(2, 2674.25)]"
      ]
     },
     "execution_count": 13,
     "metadata": {},
     "output_type": "execute_result"
    }
   ],
   "source": [
    "%%sql\n",
    "\n",
    "SELECT ad.task_id, ad.Total_Worker_Days \n",
    "    FROM (SELECT task_id, SUM((julianday(end_date) - julianday(start_date))*fraction_assignment) as Total_Worker_Days\n",
    "            FROM Assignments\n",
    "            GROUP BY task_id\n",
    "            ORDER BY Total_Worker_Days DESC) as ad\n",
    "    WHERE ad.task_id=(SELECT task_id \n",
    "                      FROM Tasks \n",
    "                      WHERE description LIKE 'Save%');"
   ]
  },
  {
   "cell_type": "markdown",
   "metadata": {
    "id": "g0juOD75zI0h"
   },
   "source": [
    "### Joins:\n",
    "\n",
    "    \n",
    "```SQL\n",
    "SELECT * FROM table1, table2\n",
    "        WHERE table1.column_name1 = table2.column_name2;\n",
    "```\n",
    "\n",
    "In SQL terms, this is called an `INNER JOIN`: You do not get a row in the result of the SELECT unless you can match a row in table 1 with a match in table 2 along the given columns.  \n",
    "\n",
    "There is alternate syntax for it:\n",
    "```SQL\n",
    "SELECT * FROM table1\n",
    "        INNER JOIN table2\n",
    "        ON table1.column_name1=table2.column_name2;\n",
    "```"
   ]
  },
  {
   "cell_type": "code",
   "execution_count": 14,
   "metadata": {
    "id": "Cep2YozKzI0j",
    "outputId": "20ceda61-ea53-4e00-c7ac-786118e54e93"
   },
   "outputs": [
    {
     "name": "stdout",
     "output_type": "stream",
     "text": [
      " * sqlite:///testdb.sqlite\n",
      "Done.\n"
     ]
    },
    {
     "data": {
      "text/html": [
       "<table>\n",
       "    <thead>\n",
       "        <tr>\n",
       "            <th>assignment_id</th>\n",
       "            <th>task_id</th>\n",
       "            <th>employee_id</th>\n",
       "            <th>start_date</th>\n",
       "            <th>end_date</th>\n",
       "            <th>charge_code</th>\n",
       "            <th>fraction_assignment</th>\n",
       "            <th>task_id_1</th>\n",
       "            <th>deadline</th>\n",
       "            <th>status</th>\n",
       "            <th>description</th>\n",
       "        </tr>\n",
       "    </thead>\n",
       "    <tbody>\n",
       "        <tr>\n",
       "            <td>6</td>\n",
       "            <td>2</td>\n",
       "            <td>2</td>\n",
       "            <td>2013-01-01</td>\n",
       "            <td>2014-07-18</td>\n",
       "            <td>CJX5</td>\n",
       "            <td>0.75</td>\n",
       "            <td>2</td>\n",
       "            <td>2014-07-18</td>\n",
       "            <td>0</td>\n",
       "            <td>Save the world.</td>\n",
       "        </tr>\n",
       "        <tr>\n",
       "            <td>7</td>\n",
       "            <td>3</td>\n",
       "            <td>2</td>\n",
       "            <td>2013-01-01</td>\n",
       "            <td>2014-07-18</td>\n",
       "            <td>INTERNAL</td>\n",
       "            <td>0.25</td>\n",
       "            <td>3</td>\n",
       "            <td>2014-12-11</td>\n",
       "            <td>0</td>\n",
       "            <td>Cost cutting on worker bees.</td>\n",
       "        </tr>\n",
       "    </tbody>\n",
       "</table>"
      ],
      "text/plain": [
       "[(6, 2, 2, '2013-01-01', '2014-07-18', 'CJX5', 0.75, 2, '2014-07-18', 0, 'Save the world.'),\n",
       " (7, 3, 2, '2013-01-01', '2014-07-18', 'INTERNAL', 0.25, 3, '2014-12-11', 0, 'Cost cutting on worker bees.')]"
      ]
     },
     "execution_count": 14,
     "metadata": {},
     "output_type": "execute_result"
    }
   ],
   "source": [
    "%%sql\n",
    "\n",
    "SELECT a.*, t.* \n",
    "  FROM Assignments a, Tasks t \n",
    "    WHERE a.task_id=t.task_id \n",
    "    AND employee_id=2 \n",
    "    AND status=0\n",
    "    ORDER BY t.deadline;"
   ]
  },
  {
   "cell_type": "markdown",
   "metadata": {
    "id": "BH2BLyzJzI0s"
   },
   "source": [
    "<a id='7'></a>\n",
    "\n",
    "# 7. UNION\n",
    "\n",
    "These commands are used for joining data row-wise either between tables or within the same table. In general, the syntax looks like `(SELECT statement) UNION (SELECT STATEMENT)` where both SELECT statements have the same columns."
   ]
  },
  {
   "cell_type": "code",
   "execution_count": 15,
   "metadata": {
    "id": "m99CGsWCzI0u",
    "outputId": "981cf3b5-f7e4-4182-ca16-0b7d10d6ac78"
   },
   "outputs": [
    {
     "name": "stdout",
     "output_type": "stream",
     "text": [
      " * sqlite:///testdb.sqlite\n",
      "Done.\n"
     ]
    },
    {
     "data": {
      "text/html": [
       "<table>\n",
       "    <thead>\n",
       "        <tr>\n",
       "            <th>task_id</th>\n",
       "            <th>employee_id</th>\n",
       "        </tr>\n",
       "    </thead>\n",
       "    <tbody>\n",
       "        <tr>\n",
       "            <td>1</td>\n",
       "            <td>2</td>\n",
       "        </tr>\n",
       "        <tr>\n",
       "            <td>2</td>\n",
       "            <td>2</td>\n",
       "        </tr>\n",
       "        <tr>\n",
       "            <td>2</td>\n",
       "            <td>4</td>\n",
       "        </tr>\n",
       "        <tr>\n",
       "            <td>3</td>\n",
       "            <td>2</td>\n",
       "        </tr>\n",
       "    </tbody>\n",
       "</table>"
      ],
      "text/plain": [
       "[(1, 2), (2, 2), (2, 4), (3, 2)]"
      ]
     },
     "execution_count": 15,
     "metadata": {},
     "output_type": "execute_result"
    }
   ],
   "source": [
    "%%sql\n",
    "\n",
    "SELECT task_id, employee_id FROM Assignments WHERE employee_id = 2\n",
    "UNION \n",
    "SELECT task_id, employee_id FROM Assignments WHERE employee_id = 4;"
   ]
  },
  {
   "cell_type": "markdown",
   "metadata": {
    "id": "00RVto7lzI08"
   },
   "source": [
    "<a id='8'></a>\n",
    "\n",
    "# 8. Creating SQL Tables with Pandas: A Shortcut\n",
    "\n",
    "Pandas is awesome in many ways, and one of them is its ability to create database tables for you. If you have a DataFrame and a database connection, it will write the SQL CREATE statements to build the table schema and insert all of the rows. It works like this."
   ]
  },
  {
   "cell_type": "code",
   "execution_count": 16,
   "metadata": {},
   "outputs": [],
   "source": [
    "import pandas as pd\n",
    "import sqlite3"
   ]
  },
  {
   "cell_type": "code",
   "execution_count": 17,
   "metadata": {
    "id": "09k5WCHNzI0-"
   },
   "outputs": [
    {
     "data": {
      "text/plain": [
       "74001"
      ]
     },
     "execution_count": 17,
     "metadata": {},
     "output_type": "execute_result"
    }
   ],
   "source": [
    "# sample data\n",
    "fha_by_tract = pd.read_csv('data/2013_Gaz_tracts_national.tsv', sep='\\t')\n",
    "fha_by_tract.columns = [c.strip() for c in fha_by_tract.columns] \n",
    "\n",
    "# create db connection\n",
    "conn = sqlite3.connect('testdb.sqlite')\n",
    "\n",
    "# create a database table with the proper types to match the DataFrame types and insert all of the rows.\n",
    "fha_by_tract.to_sql('gaz_tracts', conn, if_exists='replace', index=False)"
   ]
  },
  {
   "cell_type": "code",
   "execution_count": 18,
   "metadata": {},
   "outputs": [
    {
     "data": {
      "text/html": [
       "<div>\n",
       "<style scoped>\n",
       "    .dataframe tbody tr th:only-of-type {\n",
       "        vertical-align: middle;\n",
       "    }\n",
       "\n",
       "    .dataframe tbody tr th {\n",
       "        vertical-align: top;\n",
       "    }\n",
       "\n",
       "    .dataframe thead th {\n",
       "        text-align: right;\n",
       "    }\n",
       "</style>\n",
       "<table border=\"1\" class=\"dataframe\">\n",
       "  <thead>\n",
       "    <tr style=\"text-align: right;\">\n",
       "      <th></th>\n",
       "      <th>USPS</th>\n",
       "      <th>GEOID</th>\n",
       "      <th>ALAND</th>\n",
       "      <th>AWATER</th>\n",
       "      <th>ALAND_SQMI</th>\n",
       "      <th>AWATER_SQMI</th>\n",
       "      <th>INTPTLAT</th>\n",
       "      <th>INTPTLONG</th>\n",
       "    </tr>\n",
       "  </thead>\n",
       "  <tbody>\n",
       "    <tr>\n",
       "      <th>0</th>\n",
       "      <td>AL</td>\n",
       "      <td>1001020100</td>\n",
       "      <td>9809939</td>\n",
       "      <td>36312</td>\n",
       "      <td>3.788</td>\n",
       "      <td>0.014</td>\n",
       "      <td>32.481794</td>\n",
       "      <td>-86.490249</td>\n",
       "    </tr>\n",
       "    <tr>\n",
       "      <th>1</th>\n",
       "      <td>AL</td>\n",
       "      <td>1001020200</td>\n",
       "      <td>3340498</td>\n",
       "      <td>5846</td>\n",
       "      <td>1.290</td>\n",
       "      <td>0.002</td>\n",
       "      <td>32.475758</td>\n",
       "      <td>-86.472468</td>\n",
       "    </tr>\n",
       "    <tr>\n",
       "      <th>2</th>\n",
       "      <td>AL</td>\n",
       "      <td>1001020300</td>\n",
       "      <td>5349274</td>\n",
       "      <td>9054</td>\n",
       "      <td>2.065</td>\n",
       "      <td>0.003</td>\n",
       "      <td>32.474024</td>\n",
       "      <td>-86.459703</td>\n",
       "    </tr>\n",
       "    <tr>\n",
       "      <th>3</th>\n",
       "      <td>AL</td>\n",
       "      <td>1001020400</td>\n",
       "      <td>6382705</td>\n",
       "      <td>16244</td>\n",
       "      <td>2.464</td>\n",
       "      <td>0.006</td>\n",
       "      <td>32.471030</td>\n",
       "      <td>-86.444835</td>\n",
       "    </tr>\n",
       "    <tr>\n",
       "      <th>4</th>\n",
       "      <td>AL</td>\n",
       "      <td>1001020500</td>\n",
       "      <td>11397734</td>\n",
       "      <td>48412</td>\n",
       "      <td>4.401</td>\n",
       "      <td>0.019</td>\n",
       "      <td>32.458916</td>\n",
       "      <td>-86.421817</td>\n",
       "    </tr>\n",
       "    <tr>\n",
       "      <th>...</th>\n",
       "      <td>...</td>\n",
       "      <td>...</td>\n",
       "      <td>...</td>\n",
       "      <td>...</td>\n",
       "      <td>...</td>\n",
       "      <td>...</td>\n",
       "      <td>...</td>\n",
       "      <td>...</td>\n",
       "    </tr>\n",
       "    <tr>\n",
       "      <th>73996</th>\n",
       "      <td>PR</td>\n",
       "      <td>72153750501</td>\n",
       "      <td>1795740</td>\n",
       "      <td>0</td>\n",
       "      <td>0.693</td>\n",
       "      <td>0.000</td>\n",
       "      <td>18.031240</td>\n",
       "      <td>-66.867250</td>\n",
       "    </tr>\n",
       "    <tr>\n",
       "      <th>73997</th>\n",
       "      <td>PR</td>\n",
       "      <td>72153750502</td>\n",
       "      <td>689929</td>\n",
       "      <td>0</td>\n",
       "      <td>0.266</td>\n",
       "      <td>0.000</td>\n",
       "      <td>18.024746</td>\n",
       "      <td>-66.860442</td>\n",
       "    </tr>\n",
       "    <tr>\n",
       "      <th>73998</th>\n",
       "      <td>PR</td>\n",
       "      <td>72153750503</td>\n",
       "      <td>3322868</td>\n",
       "      <td>1952</td>\n",
       "      <td>1.283</td>\n",
       "      <td>0.001</td>\n",
       "      <td>18.023325</td>\n",
       "      <td>-66.874841</td>\n",
       "    </tr>\n",
       "    <tr>\n",
       "      <th>73999</th>\n",
       "      <td>PR</td>\n",
       "      <td>72153750601</td>\n",
       "      <td>10987037</td>\n",
       "      <td>4527</td>\n",
       "      <td>4.242</td>\n",
       "      <td>0.002</td>\n",
       "      <td>18.017809</td>\n",
       "      <td>-66.839070</td>\n",
       "    </tr>\n",
       "    <tr>\n",
       "      <th>74000</th>\n",
       "      <td>PR</td>\n",
       "      <td>72153750602</td>\n",
       "      <td>17520483</td>\n",
       "      <td>252953</td>\n",
       "      <td>6.765</td>\n",
       "      <td>0.098</td>\n",
       "      <td>17.985025</td>\n",
       "      <td>-66.853531</td>\n",
       "    </tr>\n",
       "  </tbody>\n",
       "</table>\n",
       "<p>74001 rows × 8 columns</p>\n",
       "</div>"
      ],
      "text/plain": [
       "      USPS        GEOID     ALAND  AWATER  ALAND_SQMI  AWATER_SQMI   INTPTLAT  \\\n",
       "0       AL   1001020100   9809939   36312       3.788        0.014  32.481794   \n",
       "1       AL   1001020200   3340498    5846       1.290        0.002  32.475758   \n",
       "2       AL   1001020300   5349274    9054       2.065        0.003  32.474024   \n",
       "3       AL   1001020400   6382705   16244       2.464        0.006  32.471030   \n",
       "4       AL   1001020500  11397734   48412       4.401        0.019  32.458916   \n",
       "...    ...          ...       ...     ...         ...          ...        ...   \n",
       "73996   PR  72153750501   1795740       0       0.693        0.000  18.031240   \n",
       "73997   PR  72153750502    689929       0       0.266        0.000  18.024746   \n",
       "73998   PR  72153750503   3322868    1952       1.283        0.001  18.023325   \n",
       "73999   PR  72153750601  10987037    4527       4.242        0.002  18.017809   \n",
       "74000   PR  72153750602  17520483  252953       6.765        0.098  17.985025   \n",
       "\n",
       "       INTPTLONG  \n",
       "0     -86.490249  \n",
       "1     -86.472468  \n",
       "2     -86.459703  \n",
       "3     -86.444835  \n",
       "4     -86.421817  \n",
       "...          ...  \n",
       "73996 -66.867250  \n",
       "73997 -66.860442  \n",
       "73998 -66.874841  \n",
       "73999 -66.839070  \n",
       "74000 -66.853531  \n",
       "\n",
       "[74001 rows x 8 columns]"
      ]
     },
     "execution_count": 18,
     "metadata": {},
     "output_type": "execute_result"
    }
   ],
   "source": [
    "fha_by_tract"
   ]
  },
  {
   "cell_type": "markdown",
   "metadata": {
    "id": "G5k0mTKezI1G"
   },
   "source": [
    "That's it. If you have a DataFrame and like it, you can make a database table out of it.\n",
    "\n",
    "Now we can verify the table exists and has data."
   ]
  },
  {
   "cell_type": "code",
   "execution_count": 19,
   "metadata": {
    "id": "odKkMy6XzI1I",
    "outputId": "c2ae8609-f818-4945-9fe9-cda298d0bae1"
   },
   "outputs": [
    {
     "name": "stdout",
     "output_type": "stream",
     "text": [
      " * sqlite:///testdb.sqlite\n",
      "Done.\n"
     ]
    },
    {
     "data": {
      "text/html": [
       "<table>\n",
       "    <thead>\n",
       "        <tr>\n",
       "            <th>USPS</th>\n",
       "            <th>GEOID</th>\n",
       "            <th>ALAND</th>\n",
       "            <th>AWATER</th>\n",
       "            <th>ALAND_SQMI</th>\n",
       "            <th>AWATER_SQMI</th>\n",
       "            <th>INTPTLAT</th>\n",
       "            <th>INTPTLONG</th>\n",
       "        </tr>\n",
       "    </thead>\n",
       "    <tbody>\n",
       "        <tr>\n",
       "            <td>AL</td>\n",
       "            <td>1001020100</td>\n",
       "            <td>9809939</td>\n",
       "            <td>36312</td>\n",
       "            <td>3.788</td>\n",
       "            <td>0.014</td>\n",
       "            <td>32.4817943</td>\n",
       "            <td>-86.4902488</td>\n",
       "        </tr>\n",
       "        <tr>\n",
       "            <td>AL</td>\n",
       "            <td>1001020200</td>\n",
       "            <td>3340498</td>\n",
       "            <td>5846</td>\n",
       "            <td>1.29</td>\n",
       "            <td>0.002</td>\n",
       "            <td>32.475758</td>\n",
       "            <td>-86.4724678</td>\n",
       "        </tr>\n",
       "        <tr>\n",
       "            <td>AL</td>\n",
       "            <td>1001020300</td>\n",
       "            <td>5349274</td>\n",
       "            <td>9054</td>\n",
       "            <td>2.065</td>\n",
       "            <td>0.003</td>\n",
       "            <td>32.4740243</td>\n",
       "            <td>-86.4597033</td>\n",
       "        </tr>\n",
       "        <tr>\n",
       "            <td>AL</td>\n",
       "            <td>1001020400</td>\n",
       "            <td>6382705</td>\n",
       "            <td>16244</td>\n",
       "            <td>2.464</td>\n",
       "            <td>0.006</td>\n",
       "            <td>32.4710304</td>\n",
       "            <td>-86.4448353</td>\n",
       "        </tr>\n",
       "        <tr>\n",
       "            <td>AL</td>\n",
       "            <td>1001020500</td>\n",
       "            <td>11397734</td>\n",
       "            <td>48412</td>\n",
       "            <td>4.401</td>\n",
       "            <td>0.019</td>\n",
       "            <td>32.4589157</td>\n",
       "            <td>-86.4218165</td>\n",
       "        </tr>\n",
       "        <tr>\n",
       "            <td>AL</td>\n",
       "            <td>1001020600</td>\n",
       "            <td>8020363</td>\n",
       "            <td>60048</td>\n",
       "            <td>3.097</td>\n",
       "            <td>0.023</td>\n",
       "            <td>32.4473674</td>\n",
       "            <td>-86.4768327</td>\n",
       "        </tr>\n",
       "        <tr>\n",
       "            <td>AL</td>\n",
       "            <td>1001020700</td>\n",
       "            <td>22414817</td>\n",
       "            <td>775005</td>\n",
       "            <td>8.654</td>\n",
       "            <td>0.299</td>\n",
       "            <td>32.4303487</td>\n",
       "            <td>-86.4369714</td>\n",
       "        </tr>\n",
       "        <tr>\n",
       "            <td>AL</td>\n",
       "            <td>1001020801</td>\n",
       "            <td>124278423</td>\n",
       "            <td>8117643</td>\n",
       "            <td>47.984</td>\n",
       "            <td>3.134</td>\n",
       "            <td>32.4180838</td>\n",
       "            <td>-86.527137</td>\n",
       "        </tr>\n",
       "        <tr>\n",
       "            <td>AL</td>\n",
       "            <td>1001020802</td>\n",
       "            <td>190810946</td>\n",
       "            <td>678013</td>\n",
       "            <td>73.673</td>\n",
       "            <td>0.262</td>\n",
       "            <td>32.5466429</td>\n",
       "            <td>-86.5312317</td>\n",
       "        </tr>\n",
       "        <tr>\n",
       "            <td>AL</td>\n",
       "            <td>1001020900</td>\n",
       "            <td>292756803</td>\n",
       "            <td>516150</td>\n",
       "            <td>113.034</td>\n",
       "            <td>0.199</td>\n",
       "            <td>32.6370123</td>\n",
       "            <td>-86.5149469</td>\n",
       "        </tr>\n",
       "    </tbody>\n",
       "</table>"
      ],
      "text/plain": [
       "[('AL', 1001020100, 9809939, 36312, 3.788, 0.014, 32.4817943, -86.4902488),\n",
       " ('AL', 1001020200, 3340498, 5846, 1.29, 0.002, 32.475758, -86.4724678),\n",
       " ('AL', 1001020300, 5349274, 9054, 2.065, 0.003, 32.4740243, -86.4597033),\n",
       " ('AL', 1001020400, 6382705, 16244, 2.464, 0.006, 32.4710304, -86.4448353),\n",
       " ('AL', 1001020500, 11397734, 48412, 4.401, 0.019, 32.4589157, -86.4218165),\n",
       " ('AL', 1001020600, 8020363, 60048, 3.097, 0.023, 32.4473674, -86.4768327),\n",
       " ('AL', 1001020700, 22414817, 775005, 8.654, 0.299, 32.4303487, -86.4369714),\n",
       " ('AL', 1001020801, 124278423, 8117643, 47.984, 3.134, 32.4180838, -86.527137),\n",
       " ('AL', 1001020802, 190810946, 678013, 73.673, 0.262, 32.5466429, -86.5312317),\n",
       " ('AL', 1001020900, 292756803, 516150, 113.034, 0.199, 32.6370123, -86.5149469)]"
      ]
     },
     "execution_count": 19,
     "metadata": {},
     "output_type": "execute_result"
    }
   ],
   "source": [
    "%%sql\n",
    "\n",
    "SELECT * FROM gaz_tracts LIMIT 10;"
   ]
  },
  {
   "cell_type": "markdown",
   "metadata": {},
   "source": [
    "### Exercise"
   ]
  },
  {
   "cell_type": "markdown",
   "metadata": {},
   "source": [
    "Return the `sum` of these columns `[AWATER_SQMI, ALAND, AWATER]` and the `average` value for these columns `[INTPTLAT, INTPTLONG]` for each `USPS` that satisfy these conditions: \n",
    "- starts with `A`\n",
    "- have a `sum` of `AWATER_SQMI` below `1500`\n",
    "\n",
    "\n",
    "*Hint: You have to use the statement `HAVING`*\n",
    "\n",
    "\n",
    "*(10 min)*"
   ]
  },
  {
   "cell_type": "code",
   "execution_count": 39,
   "metadata": {},
   "outputs": [
    {
     "name": "stdout",
     "output_type": "stream",
     "text": [
      " * sqlite:///testdb.sqlite\n",
      "Done.\n"
     ]
    },
    {
     "data": {
      "text/html": [
       "<table>\n",
       "    <thead>\n",
       "        <tr>\n",
       "            <th>USPS</th>\n",
       "            <th>sum(AWATER_SQMI)</th>\n",
       "            <th>sum(ALAND)</th>\n",
       "            <th>sum(AWATER)</th>\n",
       "            <th>Avg(INTPTLAT)</th>\n",
       "            <th>Avg(INTPTLONG)</th>\n",
       "        </tr>\n",
       "    </thead>\n",
       "    <tbody>\n",
       "        <tr>\n",
       "            <td>AR</td>\n",
       "            <td>1142.3999999999985</td>\n",
       "            <td>134772954601</td>\n",
       "            <td>2958815561</td>\n",
       "            <td>35.063891292274036</td>\n",
       "            <td>-92.53671764387744</td>\n",
       "        </tr>\n",
       "        <tr>\n",
       "            <td>AZ</td>\n",
       "            <td>396.8569999999992</td>\n",
       "            <td>294205037082</td>\n",
       "            <td>1027846143</td>\n",
       "            <td>33.350129589121885</td>\n",
       "            <td>-111.86668900786387</td>\n",
       "        </tr>\n",
       "    </tbody>\n",
       "</table>"
      ],
      "text/plain": [
       "[('AR', 1142.3999999999985, 134772954601, 2958815561, 35.063891292274036, -92.53671764387744),\n",
       " ('AZ', 396.8569999999992, 294205037082, 1027846143, 33.350129589121885, -111.86668900786387)]"
      ]
     },
     "execution_count": 39,
     "metadata": {},
     "output_type": "execute_result"
    }
   ],
   "source": [
    "%%sql\n",
    "\n",
    "SELECT USPS, sum(AWATER_SQMI), sum(ALAND), sum(AWATER), Avg(INTPTLAT), Avg(INTPTLONG)\n",
    "FROM gaz_tracts\n",
    "WHERE USPS LIKE 'a%'\n",
    "GROUP BY USPS\n",
    "HAVING sum(AWATER_SQMI) < 1500;\n"
   ]
  },
  {
   "cell_type": "code",
   "execution_count": null,
   "metadata": {},
   "outputs": [],
   "source": []
  }
 ],
 "metadata": {
  "colab": {
   "name": "IW_SQL.ipynb",
   "provenance": []
  },
  "kernelspec": {
   "display_name": "Python 3 (ipykernel)",
   "language": "python",
   "name": "python3"
  },
  "language_info": {
   "codemirror_mode": {
    "name": "ipython",
    "version": 3
   },
   "file_extension": ".py",
   "mimetype": "text/x-python",
   "name": "python",
   "nbconvert_exporter": "python",
   "pygments_lexer": "ipython3",
   "version": "3.10.9"
  }
 },
 "nbformat": 4,
 "nbformat_minor": 4
}
